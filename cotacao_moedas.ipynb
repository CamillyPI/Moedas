{
 "cells": [
  {
   "cell_type": "code",
   "execution_count": 110,
   "metadata": {},
   "outputs": [
    {
     "name": "stdout",
     "output_type": "stream",
     "text": [
      "Requirement already satisfied: requests in c:\\users\\windows\\appdata\\local\\programs\\python\\python311\\lib\\site-packages (2.31.0)\n",
      "Requirement already satisfied: charset-normalizer<4,>=2 in c:\\users\\windows\\appdata\\local\\programs\\python\\python311\\lib\\site-packages (from requests) (3.3.2)\n",
      "Requirement already satisfied: idna<4,>=2.5 in c:\\users\\windows\\appdata\\local\\programs\\python\\python311\\lib\\site-packages (from requests) (3.6)\n",
      "Requirement already satisfied: urllib3<3,>=1.21.1 in c:\\users\\windows\\appdata\\local\\programs\\python\\python311\\lib\\site-packages (from requests) (2.1.0)\n",
      "Requirement already satisfied: certifi>=2017.4.17 in c:\\users\\windows\\appdata\\local\\programs\\python\\python311\\lib\\site-packages (from requests) (2023.11.17)\n",
      "Note: you may need to restart the kernel to use updated packages.\n"
     ]
    },
    {
     "name": "stderr",
     "output_type": "stream",
     "text": [
      "\n",
      "[notice] A new release of pip is available: 23.1.2 -> 24.0\n",
      "[notice] To update, run: python.exe -m pip install --upgrade pip\n"
     ]
    }
   ],
   "source": [
    "# Adicionando a biblioteca requests\n",
    "\n",
    "%pip install requests\n",
    "\n",
    "import requests"
   ]
  },
  {
   "cell_type": "code",
   "execution_count": 111,
   "metadata": {},
   "outputs": [],
   "source": [
    "# Puxando a API de cotação de moedas\n",
    "\n",
    "req = requests.get(\"https://economia.awesomeapi.com.br/last/USD-BRL,EUR-BRL,BTC-BRL\")\n",
    "moedas = req.json()"
   ]
  },
  {
   "cell_type": "code",
   "execution_count": 112,
   "metadata": {},
   "outputs": [
    {
     "name": "stdout",
     "output_type": "stream",
     "text": [
      "Para ver a moeda desejada na cotação atual em BRL, digite o numero referente a ela\n",
      "1 - Dolar \n",
      "2 - Euro \n",
      "3 - Bitcoin\n"
     ]
    }
   ],
   "source": [
    "# textos e inputs\n",
    "\n",
    "print(\"Para ver a moeda desejada na cotação atual em BRL, digite o numero referente a ela\")\n",
    "print(\"1 - Dolar \\n2 - Euro \\n3 - Bitcoin\")\n",
    "qualm = input(\"Insira o número referente a moeda: \")"
   ]
  },
  {
   "cell_type": "code",
   "execution_count": 113,
   "metadata": {},
   "outputs": [
    {
     "name": "stdout",
     "output_type": "stream",
     "text": [
      "Valor Invalido. Aperte um número de 1 a 3.\n"
     ]
    }
   ],
   "source": [
    "# Filtrando o pedido\n",
    "\n",
    "if qualm == \"1\":\n",
    "\n",
    "    print(moedas['USDBRL']['bid'])\n",
    "\n",
    "else:\n",
    "    \n",
    "    if qualm == \"2\":\n",
    "\n",
    "        print(moedas['EURBRL']['bid'])\n",
    "    \n",
    "    else:\n",
    "\n",
    "        if qualm == \"3\":\n",
    "\n",
    "            print(moedas['BTCBRL']['bid'])\n",
    "\n",
    "        else:\n",
    "\n",
    "            print(\"Valor Invalido. Aperte um número de 1 a 3.\")"
   ]
  }
 ],
 "metadata": {
  "kernelspec": {
   "display_name": "Python 3",
   "language": "python",
   "name": "python3"
  },
  "language_info": {
   "codemirror_mode": {
    "name": "ipython",
    "version": 3
   },
   "file_extension": ".py",
   "mimetype": "text/x-python",
   "name": "python",
   "nbconvert_exporter": "python",
   "pygments_lexer": "ipython3",
   "version": "3.11.4"
  }
 },
 "nbformat": 4,
 "nbformat_minor": 2
}
