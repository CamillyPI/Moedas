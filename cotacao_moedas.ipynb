{
 "cells": [
  {
   "cell_type": "code",
   "execution_count": null,
   "metadata": {},
   "outputs": [],
   "source": [
    "# Adicionando a biblioteca requests\n",
    "\n",
    "%pip install requests\n",
    "\n",
    "import requests"
   ]
  },
  {
   "cell_type": "code",
   "execution_count": null,
   "metadata": {},
   "outputs": [],
   "source": [
    "# Puxando a API de cotação de moedas\n",
    "\n",
    "req = requests.get(\"https://economia.awesomeapi.com.br/last/USD-BRL,EUR-BRL,BTC-BRL\")\n",
    "moedas = req.json()"
   ]
  },
  {
   "cell_type": "code",
   "execution_count": null,
   "metadata": {},
   "outputs": [],
   "source": [
    "# textos e inputs\n",
    "\n",
    "print(\"Para ver a moeda desejada na cotação atual em BRL, digite o numero referente a ela\")\n",
    "print(\"1 - Dolar \\n2 - Euro \\n3 - Bitcoin\")\n",
    "numero_moeda = input(\"Insira o número referente a moeda: \")"
   ]
  },
  {
   "cell_type": "code",
   "execution_count": null,
   "metadata": {},
   "outputs": [],
   "source": [
    "# Filtrando o pedido\n",
    "\n",
    "if numero_moeda == \"1\":\n",
    "\n",
    "    print(moedas['USDBRL']['bid'])\n",
    "\n",
    "else:\n",
    "    \n",
    "    if numero_moeda == \"2\":\n",
    "\n",
    "        print(moedas['EURBRL']['bid'])\n",
    "    \n",
    "    else:\n",
    "\n",
    "        if numero_moeda == \"3\":\n",
    "\n",
    "            print(moedas['BTCBRL']['bid'])\n",
    "\n",
    "        else:\n",
    "\n",
    "            print(\"Valor Invalido. Aperte um número de 1 a 3.\")"
   ]
  }
 ],
 "metadata": {
  "kernelspec": {
   "display_name": "Python 3",
   "language": "python",
   "name": "python3"
  },
  "language_info": {
   "codemirror_mode": {
    "name": "ipython",
    "version": 3
   },
   "file_extension": ".py",
   "mimetype": "text/x-python",
   "name": "python",
   "nbconvert_exporter": "python",
   "pygments_lexer": "ipython3",
   "version": "3.11.4"
  }
 },
 "nbformat": 4,
 "nbformat_minor": 2
}
